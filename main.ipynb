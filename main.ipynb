{
 "cells": [
  {
   "cell_type": "markdown",
   "id": "209085bd",
   "metadata": {},
   "source": [
    "# Modules"
   ]
  },
  {
   "cell_type": "code",
   "execution_count": null,
   "id": "dbc23d43",
   "metadata": {},
   "outputs": [],
   "source": [
    "import gurobipy\n",
    "from gurobipy import *\n",
    "\n",
    "from random import randint\n",
    "import pandas as pd\n",
    "import numpy as np\n",
    "import json\n",
    "\n",
    "# for creating a responsive plot\n",
    "%matplotlib widget\n",
    "\n",
    "from mpl_toolkits.mplot3d import Axes3D\n",
    "import matplotlib.pyplot as plt"
   ]
  },
  {
   "cell_type": "markdown",
   "id": "2096cdbc",
   "metadata": {},
   "source": [
    "# Input Data"
   ]
  },
  {
   "cell_type": "code",
   "execution_count": null,
   "id": "52e9dc34",
   "metadata": {},
   "outputs": [],
   "source": [
    "# Opening JSON file\n",
    "instance_name = \"./data/large_instance\"\n",
    "f = open(instance_name+\".json\")\n",
    "# returns JSON object as a dictionary\n",
    "data = json.load(f)"
   ]
  },
  {
   "cell_type": "code",
   "execution_count": null,
   "id": "88bd5347",
   "metadata": {},
   "outputs": [],
   "source": [
    "## Problem's parameters :\n",
    "\n",
    "S = len(data[\"staff\"]) # Number of individuals\n",
    "H = data[\"horizon\"]+1 # Horizon\n",
    "J = len(data[\"jobs\"]) # Number of projects\n",
    "Q = len(data[\"qualifications\"]) # Number of qualifications"
   ]
  },
  {
   "cell_type": "markdown",
   "id": "bf63652f",
   "metadata": {},
   "source": [
    "# Transform Data"
   ]
  },
  {
   "cell_type": "code",
   "execution_count": null,
   "id": "9fb1dd84",
   "metadata": {
    "scrolled": false
   },
   "outputs": [],
   "source": [
    "## def functions from json\n",
    "def vacations(collaborator, day):\n",
    "    if day in collaborator[\"vacations\"]:\n",
    "        return 1\n",
    "    else:\n",
    "        return 0\n",
    "def has_qualification(collaborator,qualification):\n",
    "    # numbered collaborator\n",
    "    if data[\"qualifications\"][qualification] in data[\"staff\"][collaborator][\"qualifications\"]:\n",
    "        return 1\n",
    "    else:\n",
    "        return 0\n",
    "\n",
    "def project_necessary_qualifications(project,qualification):\n",
    "    if data[\"qualifications\"][qualification] in data[\"jobs\"][project][\"working_days_per_qualification\"].keys():\n",
    "        return data[\"jobs\"][project][\"working_days_per_qualification\"][data[\"qualifications\"][qualification]]\n",
    "    else:\n",
    "        return 0\n",
    "def gain(project):\n",
    "    return project[\"gain\"]\n",
    "\n",
    "def date_rendu(project):\n",
    "    return project[\"due_date\"]\n",
    "\n",
    "def penalite(project):\n",
    "    return project[\"daily_penalty\"]"
   ]
  },
  {
   "cell_type": "markdown",
   "id": "36c9405d",
   "metadata": {},
   "source": [
    "# Model"
   ]
  },
  {
   "cell_type": "code",
   "execution_count": null,
   "id": "ce45115f",
   "metadata": {},
   "outputs": [],
   "source": [
    "# Create a new model\n",
    "m = Model()"
   ]
  },
  {
   "cell_type": "markdown",
   "id": "cd7e88c9",
   "metadata": {},
   "source": [
    "## Decision Variables"
   ]
  },
  {
   "cell_type": "code",
   "execution_count": null,
   "id": "7d2d5537",
   "metadata": {},
   "outputs": [],
   "source": [
    "## variables\n",
    "M = 1000\n",
    "## Create variable rea (realisation of project)\n",
    "X = {}\n",
    "Y = {}\n",
    "L={}\n",
    "E= {}\n",
    "Debut = {}\n",
    "b = {}\n",
    "shift_change={}\n",
    "\n",
    "for i in range(S):\n",
    "    for j in range(J):\n",
    "        for k in range(Q):\n",
    "            for t in range(H):\n",
    "                X[i,j,k,t] = m.addVar(vtype=GRB.BINARY,name=\"X[\"+str(i)+\",\"+str(j)+\",\"+str(k)+\",\"+str(t)+\"]\")\n",
    "for j in range(J):\n",
    "    Y[j]=m.addVar(vtype=GRB.BINARY,name=\"Y[\"+str(j)+\"]\")\n",
    "    L[j]=m.addVar(vtype=GRB.INTEGER,name=\"L[\"+str(j)+\"]\")\n",
    "    E[j]=m.addVar(vtype=GRB.INTEGER,name=\"E[\"+str(j)+\"]\")\n",
    "    Debut[j]=m.addVar(vtype=GRB.INTEGER,name=\"Debut[\"+str(j)+\"]\")\n",
    "for i in range(S):\n",
    "    for j in range(J):\n",
    "        for k in range(Q):\n",
    "            for t in range(H):\n",
    "                b[i,j,k,t] = m.addVar(vtype=GRB.BINARY,name=\"binary decision 2[\"+str(i)+\",\"+str(j)+\",\"+str(k)+\",\"+str(t)+\"]\")\n",
    "                shift_change[i,j,k,t] = m.addVar(vtype=GRB.BINARY,name=\"Shift Change [\"+str(i)+\",\"+str(j)+\",\"+str(k)+\",\"+str(t)+\"]\")"
   ]
  },
  {
   "cell_type": "markdown",
   "id": "f570e532",
   "metadata": {},
   "source": [
    "## Constraints"
   ]
  },
  {
   "cell_type": "code",
   "execution_count": null,
   "id": "fae066d7",
   "metadata": {},
   "outputs": [],
   "source": [
    "for i in range(S):\n",
    "    for t in range(H):\n",
    "        m.addConstr(quicksum(X[i,j,k,t] for j in range(J) for k in range(Q)) <=1)\n",
    "for i in range(S):\n",
    "    for t in range(H):\n",
    "        if vacations(data[\"staff\"][i],t)>0:\n",
    "            m.addConstr(quicksum(X[i,j,k,t] for j in range(J) for k in range(Q))==0)\n",
    "for i in range(S):\n",
    "    for j in range(J):\n",
    "        for k in range(Q):\n",
    "            if (has_qualification(i,k)==0) or (project_necessary_qualifications(j,k)==0):\n",
    "                for t in range(H):\n",
    "                    m.addConstr(X[i,j,k,t]==0)\n",
    "for j in range(J):\n",
    "    for k in range(Q):\n",
    "        if project_necessary_qualifications(j,k)>0:\n",
    "            m.addConstr(Y[j]*project_necessary_qualifications(j,k) <= quicksum(X[i,j,k,t] for i in range(S) for t in range(H)))\n",
    "\n",
    "for j in range(J):\n",
    "    for k in range(Q):\n",
    "        if project_necessary_qualifications(j,k)>0:\n",
    "            m.addConstr(quicksum(X[i,j,k,t] for i in range(S) for t in range(H)) <= project_necessary_qualifications(j,k))\n",
    "        \n",
    "for i in range(S):\n",
    "    for j in range(J):\n",
    "        for k in range(Q):\n",
    "            for t in range(H):\n",
    "                m.addConstr(X[i,j,k,t]*t <= E[j])\n",
    "                m.addConstr(t*X[i,j,k,t] >= Debut[j])\n",
    "        m.addConstr(Debut[j] <= E[j])\n",
    "                \n",
    "for j in range(J):\n",
    "    m.addConstr(E[j]-date_rendu(data[\"jobs\"][j])<=L[j])\n"
   ]
  },
  {
   "cell_type": "markdown",
   "id": "2e6c8dd4",
   "metadata": {},
   "source": [
    "## Objective function"
   ]
  },
  {
   "cell_type": "code",
   "execution_count": null,
   "id": "94b4b153",
   "metadata": {},
   "outputs": [],
   "source": [
    "## Set objective function\n",
    "\n",
    "## Fonction obj 1: Maximize profits\n",
    "profits = LinExpr()\n",
    "profits = quicksum( Y[j]*gain(data[\"jobs\"][j]) - L[j]*penalite(data[\"jobs\"][j]) for j in range(J))\n",
    "\n",
    "m.setObjective(profits,GRB.MAXIMIZE)\n",
    "\n",
    "#Update Modèle\n",
    "m.update()"
   ]
  },
  {
   "cell_type": "code",
   "execution_count": null,
   "id": "3e0f7cf2",
   "metadata": {
    "scrolled": true
   },
   "outputs": [],
   "source": [
    "m.params.outputflag = 0\n",
    "\n",
    "solution_dict = {}\n",
    "for nbr_shifts in range(H,int(J/S),-1):\n",
    "    for nbr_jours_max_projet in range(H,-1,-1):\n",
    "        cons = []\n",
    "        for i in range(S):\n",
    "            for j in range(J):\n",
    "            #for k in range(Q):\n",
    "                for t in range(H-1):                                \n",
    "                    cons.append(m.addConstr(shift_change[i,j,k,t]>=0))\n",
    "                    cons.append(m.addConstr(shift_change[i,j,k,t]>=quicksum(X[i,j,k,t+1]-X[i,j,k,t] for k in range(Q))))\n",
    "                    cons.append(m.addConstr(shift_change[i,j,k,t]<=M*(1-b[i,j,k,t])))\n",
    "                        #cons.append(m.addConstr(shift_change[i,j,k,t]<=X[i,j,k,t+1]-X[i,j,k,t]+M*b[i,j,k,t]))\n",
    "                        #m.optimize()\n",
    "            cons.append(m.addConstr(quicksum(shift_change[i,j,k,t] for j in range(J) for k in range(Q) for t in range(H)) <= nbr_shifts))\n",
    "        cons.append(m.addConstr(E[j]-Debut[j] <= nbr_jours_max_projet))\n",
    "        m.update()\n",
    "        print(\"starting\")\n",
    "        m.optimize()\n",
    "        solution_dict[nbr_shifts,nbr_jours_max_projet] = json.loads(m.getJSONSolution())\n",
    "        print(\"nbr shifts\",nbr_shifts,\"nbr_jours_max_projet\",nbr_jours_max_projet,solution_dict[nbr_shifts,nbr_jours_max_projet][\"SolutionInfo\"][\"PoolObjVal\"][0])\n",
    "\n",
    "        for c in cons:\n",
    "            m.remove(c)"
   ]
  },
  {
   "cell_type": "code",
   "execution_count": null,
   "id": "3a18badd",
   "metadata": {},
   "outputs": [],
   "source": [
    "    for nbr_jours_max_projet in range(28,-1,-1):\n",
    "        cons = []\n",
    "        for i in range(S):\n",
    "            for j in range(J):\n",
    "            #for k in range(Q):\n",
    "                for t in range(H-1):                                \n",
    "                    cons.append(m.addConstr(shift_change[i,j,k,t]>=0))\n",
    "                    cons.append(m.addConstr(shift_change[i,j,k,t]>=quicksum(X[i,j,k,t+1]-X[i,j,k,t] for k in range(Q))))\n",
    "                    cons.append(m.addConstr(shift_change[i,j,k,t]<=M*(1-b[i,j,k,t])))\n",
    "                        #cons.append(m.addConstr(shift_change[i,j,k,t]<=X[i,j,k,t+1]-X[i,j,k,t]+M*b[i,j,k,t]))\n",
    "                        #m.optimize()\n",
    "            cons.append(m.addConstr(quicksum(shift_change[i,j,k,t] for j in range(J) for k in range(Q) for t in range(H)) <= nbr_shifts))\n",
    "        cons.append(m.addConstr(E[j]-Debut[j] <= nbr_jours_max_projet))\n",
    "        m.update()\n",
    "        print(\"starting\")\n",
    "        m.optimize()\n",
    "        solution_dict[nbr_shifts,nbr_jours_max_projet] = json.loads(m.getJSONSolution())\n",
    "        print(\"nbr shifts\",nbr_shifts,\"nbr_jours_max_projet\",nbr_jours_max_projet,solution_dict[nbr_shifts,nbr_jours_max_projet][\"SolutionInfo\"][\"PoolObjVal\"][0])\n",
    "\n",
    "        for c in cons:\n",
    "            m.remove(c)"
   ]
  },
  {
   "cell_type": "code",
   "execution_count": null,
   "id": "31ed98c3",
   "metadata": {},
   "outputs": [],
   "source": [
    "solution_dict = b"
   ]
  },
  {
   "cell_type": "code",
   "execution_count": null,
   "id": "3127f773",
   "metadata": {},
   "outputs": [],
   "source": [
    "\n",
    "import pickle \n",
    "\n",
    "with open('large_solution.txt', 'rb') as handle:\n",
    "  b = pickle.loads(handle.read())"
   ]
  },
  {
   "cell_type": "markdown",
   "id": "6fed6102",
   "metadata": {},
   "source": [
    "## Non dominated Solutions"
   ]
  },
  {
   "cell_type": "code",
   "execution_count": null,
   "id": "6179565d",
   "metadata": {},
   "outputs": [],
   "source": [
    "solution_dict[]"
   ]
  },
  {
   "cell_type": "code",
   "execution_count": null,
   "id": "c0407ad2",
   "metadata": {},
   "outputs": [],
   "source": [
    "solution_reduite = {}\n",
    "for key in solution_dict:\n",
    "    solution_reduite[key[0],key[1],solution_dict[key][\"SolutionInfo\"][\"ObjVal\"]] = solution_dict[key][\"Vars\"]"
   ]
  },
  {
   "cell_type": "code",
   "execution_count": null,
   "id": "f2609131",
   "metadata": {},
   "outputs": [],
   "source": [
    "# select only non dominated solutions\n",
    "def get_non_dominated_solutions(solution_reduite):\n",
    "    # get the objective values\n",
    "    obj_val = list(solution_reduite.keys())\n",
    "    # get the number of solutions\n",
    "    nb_sol = len(solution_reduite)\n",
    "    # get the number of objectives\n",
    "    nb_obj = 3\n",
    "    # get the index of the solutions that are non dominated\n",
    "    non_dominated_solutions = {}\n",
    "    for i in range(nb_sol):\n",
    "        dominated = False\n",
    "        for j in range(nb_sol):\n",
    "            if i != j:\n",
    "                if all(obj_val[i][k] >= obj_val[j][k] for k in range(nb_obj-1)) and obj_val[i][nb_obj-1] <= obj_val[j][nb_obj-1]:\n",
    "                    dominated = True\n",
    "        if not dominated:\n",
    "            non_dominated_solutions[obj_val[i]] = solution_reduite[obj_val[i]]\n",
    "    return non_dominated_solutions\n",
    "\n",
    "non_dominated_sol = get_non_dominated_solutions(solution_reduite)"
   ]
  },
  {
   "cell_type": "markdown",
   "id": "68698e62",
   "metadata": {},
   "source": [
    "# Solutions visualisation"
   ]
  },
  {
   "cell_type": "code",
   "execution_count": null,
   "id": "e0b831b9",
   "metadata": {
    "scrolled": false
   },
   "outputs": [],
   "source": [
    "import plotly.graph_objects as go\n",
    "\n",
    "\n",
    "Z = np.zeros((37,37))\n",
    "for i in range(37):\n",
    "    for j in range(37):\n",
    "        try:\n",
    "            Z[j,i]=solution_dict[i,j][\"SolutionInfo\"][\"PoolObjVal\"][0]\n",
    "            print(i,j,solution_dict[i,j][\"SolutionInfo\"][\"PoolObjVal\"][0])\n",
    "        except:\n",
    "            Z[i,j]=0\n",
    "            continue\n",
    "            \n",
    "\n",
    "\n",
    "fig = go.Figure(go.Surface(\n",
    "    \n",
    "    contours = {\n",
    "        \"z\": {\"show\": True, \"start\": 0, \"end\":np.max(Z) , \"size\": 1, \"color\":\"black\"}\n",
    "    },\n",
    "    x = np.arange(37),\n",
    "    y = np.arange(37),\n",
    "    z = Z,\n",
    "    colorscale = 'RdBu',\n",
    "    showscale = True\n",
    "))\n",
    "\n",
    "for key in non_dominated_sol.keys():\n",
    "    print(key)\n",
    "    fig.add_scatter3d(x=[key[0]], y=[key[1]], z=[key[2]], mode='markers', marker=dict(size=10, color='red'), showlegend=False)\n",
    "\n",
    "\n",
    "\n",
    "\n",
    "fig.update_layout(\n",
    "        scene = {\n",
    "            \"xaxis\": {\"nticks\": 0},\n",
    "            \"zaxis\": {\"nticks\": 0},\n",
    "            'camera_eye': {\"x\": 1, \"y\": 1, \"z\": 1},\n",
    "            \"aspectratio\": {\"x\": 0, \"y\": 0, \"z\": 1}\n",
    "        } ,\n",
    "        margin=go.layout.Margin(\n",
    "        l=0, \n",
    "        r=0, \n",
    "        b=0, \n",
    "        t=0, \n",
    "    )\n",
    "        ) \n",
    "\n",
    "fig.update_layout(scene = dict(\n",
    "                    xaxis_title='Shifts',\n",
    "                    yaxis_title='Jours',\n",
    "                    zaxis_title='Gain'),\n",
    ")\n",
    "\n",
    "        \n",
    "fig.show()"
   ]
  },
  {
   "cell_type": "markdown",
   "id": "69d18711",
   "metadata": {},
   "source": [
    "## Planning of a Solution"
   ]
  },
  {
   "cell_type": "code",
   "execution_count": null,
   "id": "3b7c0807",
   "metadata": {},
   "outputs": [],
   "source": [
    "list_solution = []\n",
    "for key, value in non_dominated_sol.items():\n",
    "    solution = {}\n",
    "    for i in range(len(value)):\n",
    "        if value[i]['VarName'][:2]==\"X[\":\n",
    "            print(value[i])\n",
    "            index = value[i]['VarName']\n",
    "            try:\n",
    "                solution[int(index[2]),int(index[4]),int(index[6]),int(index[8])] = int(value[i]['X'])\n",
    "            except Exception as e:\n",
    "                print( index)\n",
    "                solution[int(index[2]),int(index[4]),int(index[6]),int(index[8])] = value[i]['X']\n",
    "\n",
    "    list_solution.append(solution)"
   ]
  },
  {
   "cell_type": "code",
   "execution_count": null,
   "id": "1c43b7b3",
   "metadata": {},
   "outputs": [],
   "source": [
    "def get_planning(solution):\n",
    "    # Dataframe with affectations\n",
    "    planning = pd.DataFrame(np.nan, columns = [\"day_\"+str(i) for i in range(H)],index = [i for i in range(S)])\n",
    "    for i in range(S): # I\n",
    "        for j in range(J): # P\n",
    "            for k in range(Q): # Q\n",
    "                for t in range(H): # J\n",
    "                    if (i,j,k,t) in solution:\n",
    "                        planning.iloc[i,t] = k\n",
    "    ## colors cells with regard to project\n",
    "    color_pro = {}\n",
    "    for i in range(J):\n",
    "        color_pro[i] = '#%06X' % randint(0, 0xFFFFFF)\n",
    "\n",
    "    df_color = pd.DataFrame(np.nan, columns = [\"day_\"+str(i) for i in range(H)],index = [i for i in range(S)])\n",
    "    for i in range(S): \n",
    "        for j in range(J): \n",
    "            for k in range(Q):\n",
    "                for t in range(H): \n",
    "                    if (i,j,k,t) in solution: \n",
    "                            df_color.iloc[i,t] = color_pro[j]\n",
    "    df_color = df_color.applymap(lambda x: 'background-color: {}'.format(x))\n",
    "    def highlight_1(x):\n",
    "        return pd.DataFrame(df_color.values, columns=x.columns)\n",
    "    planning = planning.astype('Int64')\n",
    "    planning = planning.style.apply(highlight_1,axis=None)\n",
    "    # Mapping colors to projects\n",
    "    proj_col = pd.DataFrame()\n",
    "    i=0\n",
    "    jobs = [ job[\"name\"] for job in data['jobs']]\n",
    "    for project in jobs:\n",
    "        proj_col = pd.concat([proj_col,pd.DataFrame({'project':project,'color': 'background-color: ' + color_pro[i]},index=[i])], axis=0)\n",
    "        i+=1\n",
    "    def highlight_2(x):\n",
    "        return x\n",
    "    proj_col = proj_col.style.apply(highlight_2,axis=None, subset=['color'])\n",
    "    return planning, proj_col"
   ]
  },
  {
   "cell_type": "code",
   "execution_count": null,
   "id": "61485ed5",
   "metadata": {},
   "outputs": [],
   "source": [
    "for sol in list_solution:\n",
    "    planning, proj_col = get_planning(sol)\n",
    "    display(planning)\n",
    "    display(proj_col)"
   ]
  },
  {
   "cell_type": "markdown",
   "id": "bed903e5",
   "metadata": {},
   "source": [
    "# systèmes de choix/préférence"
   ]
  },
  {
   "cell_type": "code",
   "execution_count": null,
   "id": "ee358f20",
   "metadata": {},
   "outputs": [],
   "source": [
    "dico = {}\n",
    "for count,value in enumerate(solution_reduite):\n",
    "    dico[count]=value"
   ]
  },
  {
   "cell_type": "code",
   "execution_count": null,
   "id": "f7990796",
   "metadata": {},
   "outputs": [],
   "source": [
    "def bordas_ranking(dico):\n",
    "    df = pd.DataFrame.from_dict(dico, orient='index', columns=['gain','shift_change','diff'])\n",
    "    df['default_rank'] = df['gain'].rank(method='min', ascending=False)\n",
    "    df['shift_change_rank'] = df['shift_change'].rank(method='min', ascending=False)\n",
    "    df['diff_rank'] = df['diff'].rank(method='min', ascending=False)\n",
    "    df['borda'] = df['default_rank'] + df['shift_change_rank'] + df['diff_rank']\n",
    "    df = df.sort_values(by = 'borda', ascending = True)\n",
    "    return df\n",
    "\n",
    "\n",
    "def somme_ponderee(dico,poids1=1,poids2=0.5,poids3=0.5):\n",
    "    for i in dico.keys():\n",
    "        dico[i] = dico[i],np.sum(dico[i]*np.array([poids1,poids2,poids3]))\n",
    "    return {k: v[0] for k, v in sorted(dico.items(), key=lambda item: item[0])}\n",
    "\n",
    "def fonction_seuil(dico,seuil,fonction_a_appeler):\n",
    "    max_gain = max(np.array(list(dico.values())).T[0])\n",
    "    list_to_keep = {}\n",
    "    for key, values in enumerate(dico.values()):\n",
    "        if values[0] >=max_gain*seuil:\n",
    "            list_to_keep[key] = dico[key]\n",
    "    print(list_to_keep)\n",
    "    return fonction_a_appeler(list_to_keep)"
   ]
  },
  {
   "cell_type": "code",
   "execution_count": null,
   "id": "f4c4326d",
   "metadata": {
    "scrolled": true
   },
   "outputs": [],
   "source": [
    "fonction_seuil(dico,0.99,bordas_ranking)"
   ]
  },
  {
   "cell_type": "markdown",
   "id": "55aa321e",
   "metadata": {},
   "source": [
    "## Apprentissage des préférences à partir d'info à priori"
   ]
  },
  {
   "cell_type": "code",
   "execution_count": null,
   "id": "635a9ac1",
   "metadata": {},
   "outputs": [],
   "source": [
    "import skcriteria as skc\n",
    "from skcriteria.madm import similarity  # here lives TOPSIS\n",
    "from skcriteria.pipeline import mkpipe  # this function is for create pipelines\n",
    "from skcriteria.preprocessing import invert_objectives, scalers\n",
    "from skcriteria.madm import simple\n",
    "from skcriteria.madm import electre\n",
    "\n",
    "from skcriteria.cmp import RanksComparator, mkrank_cmp\n",
    "\n",
    "from skcriteria.pipeline import mkpipe\n",
    "from skcriteria.preprocessing.invert_objectives import (\n",
    "    InvertMinimize,\n",
    "    NegateMinimize,\n",
    ")\n",
    "from skcriteria.preprocessing.filters import FilterNonDominated\n",
    "from skcriteria.preprocessing.scalers import SumScaler, VectorScaler\n",
    "from skcriteria.madm.simple import  WeightedSumModel\n",
    "from skcriteria.madm.similarity import TOPSIS\n"
   ]
  },
  {
   "cell_type": "code",
   "execution_count": 238,
   "id": "35819e53",
   "metadata": {
    "scrolled": false
   },
   "outputs": [
    {
     "name": "stderr",
     "output_type": "stream",
     "text": [
      "/tmp/ipykernel_189706/3813578477.py:3: FutureWarning:\n",
      "\n",
      "The frame.append method is deprecated and will be removed from pandas in a future version. Use pandas.concat instead.\n",
      "\n",
      "/tmp/ipykernel_189706/3813578477.py:3: FutureWarning:\n",
      "\n",
      "The frame.append method is deprecated and will be removed from pandas in a future version. Use pandas.concat instead.\n",
      "\n",
      "/tmp/ipykernel_189706/3813578477.py:3: FutureWarning:\n",
      "\n",
      "The frame.append method is deprecated and will be removed from pandas in a future version. Use pandas.concat instead.\n",
      "\n",
      "/tmp/ipykernel_189706/3813578477.py:3: FutureWarning:\n",
      "\n",
      "The frame.append method is deprecated and will be removed from pandas in a future version. Use pandas.concat instead.\n",
      "\n",
      "/tmp/ipykernel_189706/3813578477.py:3: FutureWarning:\n",
      "\n",
      "The frame.append method is deprecated and will be removed from pandas in a future version. Use pandas.concat instead.\n",
      "\n",
      "/tmp/ipykernel_189706/3813578477.py:3: FutureWarning:\n",
      "\n",
      "The frame.append method is deprecated and will be removed from pandas in a future version. Use pandas.concat instead.\n",
      "\n",
      "/tmp/ipykernel_189706/3813578477.py:3: FutureWarning:\n",
      "\n",
      "The frame.append method is deprecated and will be removed from pandas in a future version. Use pandas.concat instead.\n",
      "\n",
      "/tmp/ipykernel_189706/3813578477.py:3: FutureWarning:\n",
      "\n",
      "The frame.append method is deprecated and will be removed from pandas in a future version. Use pandas.concat instead.\n",
      "\n",
      "/tmp/ipykernel_189706/3813578477.py:3: FutureWarning:\n",
      "\n",
      "The frame.append method is deprecated and will be removed from pandas in a future version. Use pandas.concat instead.\n",
      "\n",
      "/tmp/ipykernel_189706/3813578477.py:3: FutureWarning:\n",
      "\n",
      "The frame.append method is deprecated and will be removed from pandas in a future version. Use pandas.concat instead.\n",
      "\n",
      "/home/karim/.local/lib/python3.10/site-packages/skcriteria/preprocessing/invert_objectives.py:127: RuntimeWarning:\n",
      "\n",
      "divide by zero encountered in divide\n",
      "\n",
      "/home/karim/.local/lib/python3.10/site-packages/skcriteria/preprocessing/scalers.py:295: RuntimeWarning:\n",
      "\n",
      "invalid value encountered in divide\n",
      "\n"
     ]
    },
    {
     "data": {
      "text/html": [
       "<div class='skcresult-rank skcresult'>\n",
       "<style type=\"text/css\">\n",
       "</style>\n",
       "<table id=\"T_b4c50\">\n",
       "  <thead>\n",
       "    <tr>\n",
       "      <th class=\"index_name level0\" >Alternatives</th>\n",
       "      <th id=\"T_b4c50_level0_col0\" class=\"col_heading level0 col0\" >A0</th>\n",
       "      <th id=\"T_b4c50_level0_col1\" class=\"col_heading level0 col1\" >A1</th>\n",
       "      <th id=\"T_b4c50_level0_col2\" class=\"col_heading level0 col2\" >A2</th>\n",
       "      <th id=\"T_b4c50_level0_col3\" class=\"col_heading level0 col3\" >A3</th>\n",
       "      <th id=\"T_b4c50_level0_col4\" class=\"col_heading level0 col4\" >A4</th>\n",
       "      <th id=\"T_b4c50_level0_col5\" class=\"col_heading level0 col5\" >A5</th>\n",
       "      <th id=\"T_b4c50_level0_col6\" class=\"col_heading level0 col6\" >A6</th>\n",
       "      <th id=\"T_b4c50_level0_col7\" class=\"col_heading level0 col7\" >A7</th>\n",
       "      <th id=\"T_b4c50_level0_col8\" class=\"col_heading level0 col8\" >A8</th>\n",
       "      <th id=\"T_b4c50_level0_col9\" class=\"col_heading level0 col9\" >A9</th>\n",
       "    </tr>\n",
       "  </thead>\n",
       "  <tbody>\n",
       "    <tr>\n",
       "      <th id=\"T_b4c50_level0_row0\" class=\"row_heading level0 row0\" >Rank</th>\n",
       "      <td id=\"T_b4c50_row0_col0\" class=\"data row0 col0\" >6</td>\n",
       "      <td id=\"T_b4c50_row0_col1\" class=\"data row0 col1\" >2</td>\n",
       "      <td id=\"T_b4c50_row0_col2\" class=\"data row0 col2\" >4</td>\n",
       "      <td id=\"T_b4c50_row0_col3\" class=\"data row0 col3\" >9</td>\n",
       "      <td id=\"T_b4c50_row0_col4\" class=\"data row0 col4\" >1</td>\n",
       "      <td id=\"T_b4c50_row0_col5\" class=\"data row0 col5\" >3</td>\n",
       "      <td id=\"T_b4c50_row0_col6\" class=\"data row0 col6\" >5</td>\n",
       "      <td id=\"T_b4c50_row0_col7\" class=\"data row0 col7\" >7</td>\n",
       "      <td id=\"T_b4c50_row0_col8\" class=\"data row0 col8\" >10</td>\n",
       "      <td id=\"T_b4c50_row0_col9\" class=\"data row0 col9\" >8</td>\n",
       "    </tr>\n",
       "  </tbody>\n",
       "</table>\n",
       "<em class='skcresult-method'>Method: WeightedSumModel</em>\n",
       "</div>"
      ],
      "text/plain": [
       "Alternatives  A0  A1  A2  A3  A4  A5  A6  A7  A8  A9\n",
       "Rank           6   2   4   9   1   3   5   7  10   8\n",
       "[Method: WeightedSumModel]"
      ]
     },
     "metadata": {},
     "output_type": "display_data"
    },
    {
     "data": {
      "text/html": [
       "<div class='skcresult-rank skcresult'>\n",
       "<style type=\"text/css\">\n",
       "</style>\n",
       "<table id=\"T_d5d45\">\n",
       "  <thead>\n",
       "    <tr>\n",
       "      <th class=\"index_name level0\" >Alternatives</th>\n",
       "      <th id=\"T_d5d45_level0_col0\" class=\"col_heading level0 col0\" >A0</th>\n",
       "      <th id=\"T_d5d45_level0_col1\" class=\"col_heading level0 col1\" >A1</th>\n",
       "      <th id=\"T_d5d45_level0_col2\" class=\"col_heading level0 col2\" >A2</th>\n",
       "      <th id=\"T_d5d45_level0_col3\" class=\"col_heading level0 col3\" >A3</th>\n",
       "      <th id=\"T_d5d45_level0_col4\" class=\"col_heading level0 col4\" >A4</th>\n",
       "      <th id=\"T_d5d45_level0_col5\" class=\"col_heading level0 col5\" >A5</th>\n",
       "      <th id=\"T_d5d45_level0_col6\" class=\"col_heading level0 col6\" >A6</th>\n",
       "      <th id=\"T_d5d45_level0_col7\" class=\"col_heading level0 col7\" >A7</th>\n",
       "      <th id=\"T_d5d45_level0_col8\" class=\"col_heading level0 col8\" >A8</th>\n",
       "      <th id=\"T_d5d45_level0_col9\" class=\"col_heading level0 col9\" >A9</th>\n",
       "    </tr>\n",
       "  </thead>\n",
       "  <tbody>\n",
       "    <tr>\n",
       "      <th id=\"T_d5d45_level0_row0\" class=\"row_heading level0 row0\" >Rank</th>\n",
       "      <td id=\"T_d5d45_row0_col0\" class=\"data row0 col0\" >6</td>\n",
       "      <td id=\"T_d5d45_row0_col1\" class=\"data row0 col1\" >2</td>\n",
       "      <td id=\"T_d5d45_row0_col2\" class=\"data row0 col2\" >1</td>\n",
       "      <td id=\"T_d5d45_row0_col3\" class=\"data row0 col3\" >7</td>\n",
       "      <td id=\"T_d5d45_row0_col4\" class=\"data row0 col4\" >5</td>\n",
       "      <td id=\"T_d5d45_row0_col5\" class=\"data row0 col5\" >3</td>\n",
       "      <td id=\"T_d5d45_row0_col6\" class=\"data row0 col6\" >4</td>\n",
       "      <td id=\"T_d5d45_row0_col7\" class=\"data row0 col7\" >8</td>\n",
       "      <td id=\"T_d5d45_row0_col8\" class=\"data row0 col8\" >9</td>\n",
       "      <td id=\"T_d5d45_row0_col9\" class=\"data row0 col9\" >10</td>\n",
       "    </tr>\n",
       "  </tbody>\n",
       "</table>\n",
       "<em class='skcresult-method'>Method: TOPSIS</em>\n",
       "</div>"
      ],
      "text/plain": [
       "Alternatives  A0  A1  A2  A3  A4  A5  A6  A7  A8  A9\n",
       "Rank           6   2   1   7   5   3   4   8   9  10\n",
       "[Method: TOPSIS]"
      ]
     },
     "metadata": {},
     "output_type": "display_data"
    },
    {
     "name": "stderr",
     "output_type": "stream",
     "text": [
      "No artists with labels found to put in legend.  Note that artists whose label start with an underscore are ignored when legend() is called with no argument.\n"
     ]
    },
    {
     "data": {
      "application/vnd.jupyter.widget-view+json": {
       "model_id": "eb87d06e99b0428aa02f0c5842f2d16e",
       "version_major": 2,
       "version_minor": 0
      },
      "image/png": "[encoded data removed]",
      "text/html": [
       "\n",
       "            <div style=\"display: inline-block;\">\n",
       "                <div class=\"jupyter-widgets widget-label\" style=\"text-align: center;\">\n",
       "                    Figure\n",
       "                </div>\n",
       "                <img src='data:image/png;base64,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' width=640.0/>\n",
       "            </div>\n",
       "        "
      ],
      "text/plain": [
       "Canvas(toolbar=Toolbar(toolitems=[('Home', 'Reset original view', 'home', 'home'), ('Back', 'Back to previous …"
      ]
     },
     "metadata": {},
     "output_type": "display_data"
    }
   ],
   "source": [
    "dataframe_solutions = pd.DataFrame(columns=[\"NBR_SHIFTS\",\"MAX_DAYS_PER_PROJEJT\",\"GAIN\"])\n",
    "for i,j,k in non_dominated_sol.keys():\n",
    "    dataframe_solutions = dataframe_solutions.append(pd.DataFrame([[i,j,k]],\n",
    "                                                                 columns = [\"NBR_SHIFTS\",\"MAX_DAYS_PER_PROJEJT\",\"GAIN\"]))\n",
    "dataframe_solutions = dataframe_solutions.reset_index(drop=True)\n",
    "\n",
    "matrix = dataframe_solutions.values\n",
    "\n",
    "\n",
    "\n",
    "dm = skc.mkdm(\n",
    "matrix,\n",
    "[min, min, max],\n",
    "weights=[0.02, 0.02, 1-0.02*2],\n",
    "criteria=[\"nbr shifts\", \"max days\", \"gain\"],\n",
    ")\n",
    "\n",
    "\n",
    "\n",
    "ws_pipe = mkpipe(\n",
    "    InvertMinimize(),\n",
    "    FilterNonDominated(),\n",
    "    SumScaler(target=\"weights\"),\n",
    "    VectorScaler(target=\"matrix\"),\n",
    "    WeightedSumModel(),\n",
    ")\n",
    "\n",
    "\n",
    "tp_pipe = mkpipe(\n",
    "    NegateMinimize(),\n",
    "    FilterNonDominated(),\n",
    "    SumScaler(target=\"weights\"),\n",
    "    VectorScaler(target=\"matrix\"),\n",
    "    TOPSIS(),\n",
    ")\n",
    "\n",
    "wsum_result = ws_pipe.evaluate(dm)\n",
    "tp_result = tp_pipe.evaluate(dm)\n",
    "\n",
    "display(wsum_result, tp_result)\n",
    "\n",
    "RanksComparator([(\"ts\", tp_result), (\"ws\", wsum_result)])\n",
    "rcmp = mkrank_cmp(tp_result, wsum_result)\n",
    "\n",
    "\n",
    "\n",
    "rcmp.to_dataframe()\n",
    "\n",
    "\n",
    "fig = plt.figure()\n",
    "ax = plt.subplot(111)\n",
    "box = ax.get_position()\n",
    "ax.legend(loc='upper center', bbox_to_anchor=(0.5, -0.05),\n",
    "          fancybox=True, shadow=True, ncol=5)\n",
    "rcmp.plot.flow()\n",
    "plt.show()"
   ]
  },
  {
   "cell_type": "code",
   "execution_count": null,
   "id": "e210ccca",
   "metadata": {},
   "outputs": [],
   "source": []
  },
  {
   "cell_type": "code",
   "execution_count": null,
   "id": "6354f540",
   "metadata": {
    "scrolled": false
   },
   "outputs": [],
   "source": [
    "rcmp.plot.reg(r2=True, r2_fmt=\".3f\");\n",
    "plt.show()"
   ]
  },
  {
   "cell_type": "code",
   "execution_count": null,
   "id": "ba0e7b3c",
   "metadata": {},
   "outputs": [],
   "source": [
    "import matplotlib.pyplot as plt\n",
    "\n",
    "fig, axs = plt.subplots(1, 2, figsize=(20, 5))\n",
    "\n",
    "rcmp.plot.bar(ax=axs[0])\n",
    "rcmp.plot.barh(ax=axs[1])\n",
    "\n",
    "fig.tight_layout();"
   ]
  },
  {
   "cell_type": "code",
   "execution_count": null,
   "id": "167c78eb",
   "metadata": {},
   "outputs": [],
   "source": [
    "fig, axs = plt.subplots(1, 2, figsize=(20, 5))\n",
    "\n",
    "rcmp.plot.box(ax=axs[0])\n",
    "rcmp.plot.box(ax=axs[1], orient=\"h\")\n",
    "\n",
    "fig.tight_layout();"
   ]
  },
  {
   "cell_type": "code",
   "execution_count": null,
   "id": "7139b774",
   "metadata": {},
   "outputs": [],
   "source": []
  }
 ],
 "metadata": {
  "kernelspec": {
   "display_name": "Python 3 (ipykernel)",
   "language": "python",
   "name": "python3"
  },
  "language_info": {
   "codemirror_mode": {
    "name": "ipython",
    "version": 3
   },
   "file_extension": ".py",
   "mimetype": "text/x-python",
   "name": "python",
   "nbconvert_exporter": "python",
   "pygments_lexer": "ipython3",
   "version": "3.10.6"
  },
  "vscode": {
   "interpreter": {
    "hash": "916dbcbb3f70747c44a77c7bcd40155683ae19c65e1c03b4aa3499c5328201f1"
   }
  }
 },
 "nbformat": 4,
 "nbformat_minor": 5
}
